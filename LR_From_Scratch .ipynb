{
 "cells": [
  {
   "cell_type": "code",
   "execution_count": 1,
   "id": "thermal-threat",
   "metadata": {
    "scrolled": false
   },
   "outputs": [],
   "source": [
    "import matplotlib.pyplot as plt\n",
    "import numpy as np\n",
    "import pandas as pd\n",
    "from sklearn import datasets"
   ]
  },
  {
   "cell_type": "code",
   "execution_count": 2,
   "id": "harmful-formula",
   "metadata": {
    "scrolled": false
   },
   "outputs": [],
   "source": [
    "#Predicting how worse the diabetes will get within the next year\n",
    "# Load the diabetes dataset\n",
    "\n",
    "diabetes_X, diabetes_y = datasets.load_diabetes(return_X_y=True)\n"
   ]
  },
  {
   "cell_type": "code",
   "execution_count": 3,
   "id": "extra-texture",
   "metadata": {
    "scrolled": false
   },
   "outputs": [],
   "source": [
    "alpha= 0.2\n",
    "epochs=2000"
   ]
  },
  {
   "cell_type": "code",
   "execution_count": 4,
   "id": "immune-necessity",
   "metadata": {
    "scrolled": false
   },
   "outputs": [],
   "source": [
    "X=pd.DataFrame.from_records(diabetes_X)"
   ]
  },
  {
   "cell_type": "code",
   "execution_count": 5,
   "id": "collected-enzyme",
   "metadata": {
    "scrolled": false
   },
   "outputs": [],
   "source": [
    "# Hypothesis function \n",
    "def h(theta_0, thetas, x):\n",
    "    return theta_0 + np.dot(thetas, x)"
   ]
  },
  {
   "cell_type": "code",
   "execution_count": 6,
   "id": "moderate-thermal",
   "metadata": {
    "scrolled": false
   },
   "outputs": [],
   "source": [
    "#Cost function \n",
    "\n",
    "def Cost_Function(theta_0, thetas, m):\n",
    "    tmp=0\n",
    "    for i in range(0,m):\n",
    "        tmp+=np.square((h(theta_0, thetas, X.iloc[i])-diabetes_y[i]))\n",
    "    \n",
    "    return (1/(2*m))*tmp \n",
    "    "
   ]
  },
  {
   "cell_type": "code",
   "execution_count": 7,
   "id": "explicit-gnome",
   "metadata": {
    "scrolled": false
   },
   "outputs": [],
   "source": [
    "def DerivativeJ(theta_0, thetas, m, j):\n",
    "    tmp=0\n",
    "    for i in range(0,m):\n",
    "        tmp+=(h(theta_0, thetas, X.iloc[i])-diabetes_y[i])*X.iloc[i,j]\n",
    "    \n",
    "    return alpha*(1/(m))*tmp "
   ]
  },
  {
   "cell_type": "code",
   "execution_count": 8,
   "id": "breeding-limit",
   "metadata": {
    "scrolled": false
   },
   "outputs": [],
   "source": [
    "def Gradient_Decent (theta_0, thetas):\n",
    "    theta_0 = theta_0 - DerivativeJ(theta_0, thetas, len(X), 0)\n",
    "    for j in range(len(thetas)):\n",
    "        thetas[j] = thetas[j] - DerivativeJ(theta_0, thetas, len(X), j)\n",
    "    return theta_0, thetas"
   ]
  },
  {
   "cell_type": "code",
   "execution_count": 9,
   "id": "twenty-mexican",
   "metadata": {
    "scrolled": false
   },
   "outputs": [],
   "source": [
    "# Mean normalization \n",
    "# avg=np.mean(diabetes_y)\n",
    "# std=np.std (diabetes_y)\n",
    "# for i in range(len(diabetes_y)):\n",
    "#     diabetes_y[i] =  (diabetes_y[i] - avg)/std"
   ]
  },
  {
   "cell_type": "code",
   "execution_count": null,
   "id": "healthy-addiction",
   "metadata": {},
   "outputs": [],
   "source": [
    "theta_0= np.array([1])\n",
    "thetas = np.random.uniform (-1,1,10)\n",
    "\n",
    "for x in range (epochs):\n",
    "    theta_0, thetas = Gradient_Decent(theta_0, thetas)\n",
    "    print (Cost_Function(theta_0, thetas, len(X)))\n"
   ]
  },
  {
   "cell_type": "code",
   "execution_count": 11,
   "id": "becoming-compression",
   "metadata": {
    "scrolled": false
   },
   "outputs": [],
   "source": [
    "predict = []\n",
    "for x in range (100):\n",
    "    predict.append(h(theta_0, thetas, X.iloc[x]))"
   ]
  },
  {
   "cell_type": "code",
   "execution_count": 12,
   "id": "inside-judge",
   "metadata": {
    "scrolled": false
   },
   "outputs": [],
   "source": [
    "real = diabetes_y [0:100]"
   ]
  },
  {
   "cell_type": "code",
   "execution_count": 13,
   "id": "sudden-woman",
   "metadata": {
    "scrolled": false
   },
   "outputs": [
    {
     "data": {
      "text/plain": [
       "<matplotlib.legend.Legend at 0x29547d3f448>"
      ]
     },
     "execution_count": 13,
     "metadata": {},
     "output_type": "execute_result"
    },
    {
     "data": {
      "image/png": "[encoded data removed]",
      "text/plain": [
       "<Figure size 432x288 with 1 Axes>"
      ]
     },
     "metadata": {
      "needs_background": "light"
     },
     "output_type": "display_data"
    }
   ],
   "source": [
    "plt.scatter(np.arange(100), predict, label=[\"prediction\"])\n",
    "plt.scatter(np.arange(100), real, label = [\"real\"])\n",
    "plt.legend()"
   ]
  },
  {
   "cell_type": "code",
   "execution_count": null,
   "id": "universal-killer",
   "metadata": {
    "scrolled": false
   },
   "outputs": [],
   "source": []
  },
  {
   "cell_type": "code",
   "execution_count": null,
   "id": "catholic-husband",
   "metadata": {
    "scrolled": false
   },
   "outputs": [],
   "source": [
    "h(theta_0, thetas, X.iloc[100])"
   ]
  },
  {
   "cell_type": "code",
   "execution_count": null,
   "id": "damaged-stack",
   "metadata": {
    "scrolled": false
   },
   "outputs": [],
   "source": [
    "diabetes_y[100]"
   ]
  }
 ],
 "metadata": {
  "kernelspec": {
   "display_name": "Python 3",
   "language": "python",
   "name": "python3"
  },
  "language_info": {
   "codemirror_mode": {
    "name": "ipython",
    "version": 3
   },
   "file_extension": ".py",
   "mimetype": "text/x-python",
   "name": "python",
   "nbconvert_exporter": "python",
   "pygments_lexer": "ipython3",
   "version": "3.7.9"
  }
 },
 "nbformat": 4,
 "nbformat_minor": 5
}
