{
 "cells": [
  {
   "cell_type": "code",
   "execution_count": 28,
   "id": "multiple-caribbean",
   "metadata": {},
   "outputs": [],
   "source": [
    "import matplotlib.pyplot as plt\n",
    "import numpy as np\n",
    "from sklearn import datasets, linear_model\n",
    "from sklearn.metrics import mean_squared_error, r2_score\n",
    "\n",
    "from tqdm.auto import trange\n",
    "import pandas as pd"
   ]
  },
  {
   "cell_type": "code",
   "execution_count": 29,
   "id": "activated-conference",
   "metadata": {},
   "outputs": [],
   "source": [
    "#Predicting how worse the diabetes will get within the next year\n",
    "# Load the diabetes dataset\n",
    "diabetes_X, diabetes_y = datasets.load_diabetes(return_X_y=True)"
   ]
  },
  {
   "cell_type": "code",
   "execution_count": 30,
   "id": "worthy-indicator",
   "metadata": {},
   "outputs": [],
   "source": [
    "X=pd.DataFrame.from_records(diabetes_X)"
   ]
  },
  {
   "cell_type": "code",
   "execution_count": 31,
   "id": "normal-microwave",
   "metadata": {},
   "outputs": [],
   "source": [
    "def h(theta_0, thetas, x):\n",
    "    return theta_0 + np.dot(thetas, x)"
   ]
  },
  {
   "cell_type": "code",
   "execution_count": 32,
   "id": "clear-hartford",
   "metadata": {},
   "outputs": [],
   "source": [
    "#Cost function\n",
    "def J(theta_0, thetas, m):\n",
    "    tmp=0\n",
    "    for i in range(0,m):\n",
    "        tmp+=np.square((h(theta_0, thetas, X.iloc[i])-diabetes_y[i]))\n",
    "    \n",
    "    return (1/(2*m))*tmp \n",
    "    "
   ]
  },
  {
   "cell_type": "code",
   "execution_count": null,
   "id": "statutory-drilling",
   "metadata": {},
   "outputs": [],
   "source": []
  },
  {
   "cell_type": "code",
   "execution_count": 65,
   "id": "surprised-province",
   "metadata": {},
   "outputs": [],
   "source": [
    "alpha= 0.3"
   ]
  },
  {
   "cell_type": "code",
   "execution_count": 66,
   "id": "pending-delight",
   "metadata": {},
   "outputs": [],
   "source": [
    "def dvj_sum(theta_0, thetas, m, j):\n",
    "    tmp=0\n",
    "    for i in range(0,m):\n",
    "        tmp+=(h(theta_0, thetas, X.iloc[i])-diabetes_y[i])*X.iloc[i,j]\n",
    "    \n",
    "    return alpha*(1/(m))*tmp "
   ]
  },
  {
   "cell_type": "code",
   "execution_count": 67,
   "id": "imposed-brunei",
   "metadata": {},
   "outputs": [],
   "source": [
    "def GD (theta_0, thetas):\n",
    "    theta_0 = theta_0 - dvj_sum(theta_0, thetas, len(X), 0)\n",
    "    for j in range(len(thetas)):\n",
    "        thetas[j] = thetas[j] - dvj_sum(theta_0, thetas, len(X), j)\n",
    "    return theta_0, thetas"
   ]
  },
  {
   "cell_type": "code",
   "execution_count": null,
   "id": "cordless-arcade",
   "metadata": {},
   "outputs": [],
   "source": []
  },
  {
   "cell_type": "code",
   "execution_count": 68,
   "id": "inappropriate-american",
   "metadata": {},
   "outputs": [],
   "source": [
    "# #Mean normalization \n",
    "# avg=np.mean(diabetes_y)\n",
    "# std=np.std (diabetes_y)\n",
    "# for i in range(len(diabetes_y)):\n",
    "#     diabetes_y[i] =  (diabetes_y[i] - avg)/std\n",
    "    "
   ]
  },
  {
   "cell_type": "code",
   "execution_count": 69,
   "id": "optional-hampton",
   "metadata": {},
   "outputs": [
    {
     "name": "stdout",
     "output_type": "stream",
     "text": [
      "[14348.66811001]\n",
      "[14311.79723178]\n",
      "[14275.10121173]\n",
      "[14238.57918062]\n",
      "[14202.23027386]\n",
      "[14166.05363147]\n",
      "[14130.04839805]\n",
      "[14094.2137228]\n",
      "[14058.54875942]\n",
      "[14023.05266616]\n",
      "[13987.72460575]\n",
      "[13952.56374537]\n",
      "[13917.56925668]\n",
      "[13882.74031572]\n",
      "[13848.07610294]\n",
      "[13813.57580317]\n",
      "[13779.23860558]\n",
      "[13745.06370364]\n",
      "[13711.05029515]\n",
      "[13677.19758216]\n",
      "[13643.50477099]\n",
      "[13609.97107218]\n",
      "[13576.59570046]\n",
      "[13543.37787477]\n",
      "[13510.31681819]\n",
      "[13477.41175794]\n",
      "[13444.66192534]\n",
      "[13412.06655583]\n",
      "[13379.62488888]\n",
      "[13347.33616805]\n",
      "[13315.19964088]\n",
      "[13283.21455894]\n",
      "[13251.38017776]\n",
      "[13219.69575685]\n",
      "[13188.16055964]\n",
      "[13156.77385347]\n",
      "[13125.53490959]\n",
      "[13094.4430031]\n",
      "[13063.49741297]\n",
      "[13032.69742198]\n",
      "[13002.04231674]\n",
      "[12971.53138763]\n",
      "[12941.16392881]\n",
      "[12910.93923816]\n",
      "[12880.85661732]\n",
      "[12850.9153716]\n",
      "[12821.11481002]\n",
      "[12791.45424526]\n",
      "[12761.93299364]\n",
      "[12732.55037509]\n",
      "[12703.30571316]\n",
      "[12674.19833499]\n",
      "[12645.22757128]\n",
      "[12616.39275626]\n",
      "[12587.69322771]\n",
      "[12559.12832689]\n",
      "[12530.69739857]\n",
      "[12502.39979098]\n",
      "[12474.23485579]\n",
      "[12446.20194812]\n",
      "[12418.30042648]\n",
      "[12390.52965278]\n",
      "[12362.88899232]\n",
      "[12335.37781374]\n",
      "[12307.99548901]\n",
      "[12280.74139343]\n",
      "[12253.6149056]\n",
      "[12226.6154074]\n",
      "[12199.74228398]\n",
      "[12172.99492373]\n",
      "[12146.37271828]\n",
      "[12119.87506245]\n",
      "[12093.50135427]\n",
      "[12067.25099495]\n",
      "[12041.12338884]\n",
      "[12015.11794345]\n",
      "[11989.23406941]\n",
      "[11963.47118045]\n",
      "[11937.82869339]\n",
      "[11912.30602814]\n",
      "[11886.90260764]\n",
      "[11861.61785789]\n",
      "[11836.45120791]\n",
      "[11811.40208972]\n",
      "[11786.46993834]\n",
      "[11761.65419174]\n",
      "[11736.95429088]\n",
      "[11712.36967963]\n",
      "[11687.89980482]\n",
      "[11663.54411615]\n",
      "[11639.30206625]\n",
      "[11615.17311059]\n",
      "[11591.15670754]\n",
      "[11567.25231829]\n",
      "[11543.45940686]\n",
      "[11519.7774401]\n",
      "[11496.20588765]\n",
      "[11472.74422194]\n",
      "[11449.39191815]\n",
      "[11426.14845425]\n"
     ]
    }
   ],
   "source": [
    "theta_0= np.array([1])\n",
    "thetas = np.random.uniform (-1,1,10)\n",
    "\n",
    "for x in range (100):\n",
    "    theta_0 , thetas =GD(theta_0 , thetas)\n",
    "    print (J(theta_0,thetas, len(X)))\n"
   ]
  },
  {
   "cell_type": "code",
   "execution_count": null,
   "id": "sharp-marijuana",
   "metadata": {},
   "outputs": [],
   "source": []
  },
  {
   "cell_type": "code",
   "execution_count": 70,
   "id": "czech-demographic",
   "metadata": {},
   "outputs": [],
   "source": [
    "predict = []\n",
    "for x in range (100):\n",
    "    predict.append(h(theta_0, thetas, X.iloc[x]))"
   ]
  },
  {
   "cell_type": "code",
   "execution_count": 71,
   "id": "powerful-cricket",
   "metadata": {},
   "outputs": [],
   "source": [
    "real = diabetes_y [0:100]"
   ]
  },
  {
   "cell_type": "code",
   "execution_count": 72,
   "id": "blank-sydney",
   "metadata": {},
   "outputs": [
    {
     "data": {
      "text/plain": [
       "<matplotlib.legend.Legend at 0x21981d34648>"
      ]
     },
     "execution_count": 72,
     "metadata": {},
     "output_type": "execute_result"
    },
    {
     "data": {
      "image/png": "[encoded data removed]",
      "text/plain": [
       "<Figure size 432x288 with 1 Axes>"
      ]
     },
     "metadata": {
      "needs_background": "light"
     },
     "output_type": "display_data"
    }
   ],
   "source": [
    "plt.scatter(np.arange(100), predict, label=[\"prediction\"])\n",
    "plt.scatter(np.arange(100), real, label = [\"real\"])\n",
    "plt.legend()"
   ]
  },
  {
   "cell_type": "code",
   "execution_count": 53,
   "id": "difficult-sister",
   "metadata": {},
   "outputs": [],
   "source": [
    "#real"
   ]
  },
  {
   "cell_type": "code",
   "execution_count": 54,
   "id": "allied-technician",
   "metadata": {},
   "outputs": [],
   "source": [
    "#predict"
   ]
  },
  {
   "cell_type": "code",
   "execution_count": 51,
   "id": "blank-efficiency",
   "metadata": {},
   "outputs": [
    {
     "data": {
      "text/plain": [
       "array([31.43448402])"
      ]
     },
     "execution_count": 51,
     "metadata": {},
     "output_type": "execute_result"
    }
   ],
   "source": [
    "h(theta_0, thetas, X.iloc[100])"
   ]
  },
  {
   "cell_type": "code",
   "execution_count": 52,
   "id": "consecutive-trader",
   "metadata": {},
   "outputs": [
    {
     "data": {
      "text/plain": [
       "128.0"
      ]
     },
     "execution_count": 52,
     "metadata": {},
     "output_type": "execute_result"
    }
   ],
   "source": [
    "diabetes_y[100]"
   ]
  },
  {
   "cell_type": "code",
   "execution_count": null,
   "id": "handmade-initial",
   "metadata": {},
   "outputs": [],
   "source": []
  }
 ],
 "metadata": {
  "kernelspec": {
   "display_name": "Python 3",
   "language": "python",
   "name": "python3"
  },
  "language_info": {
   "codemirror_mode": {
    "name": "ipython",
    "version": 3
   },
   "file_extension": ".py",
   "mimetype": "text/x-python",
   "name": "python",
   "nbconvert_exporter": "python",
   "pygments_lexer": "ipython3",
   "version": "3.7.9"
  }
 },
 "nbformat": 4,
 "nbformat_minor": 5
}
