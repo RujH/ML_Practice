{
 "cells": [
  {
   "cell_type": "code",
   "execution_count": null,
   "id": "agricultural-september",
   "metadata": {},
   "outputs": [],
   "source": [
    "import matplotlib.pyplot as plt\n",
    "import numpy as np\n",
    "from sklearn import datasets, linear_model\n",
    "from sklearn.metrics import mean_squared_error, r2_score\n",
    "\n",
    "from tqdm.auto import trange\n",
    "import pandas as pd"
   ]
  },
  {
   "cell_type": "code",
   "execution_count": null,
   "id": "special-abraham",
   "metadata": {},
   "outputs": [],
   "source": [
    "#Predicting how worse the diabetes will get within the next year\n",
    "# Load the diabetes dataset\n",
    "diabetes_X, diabetes_y = datasets.load_diabetes(return_X_y=True)"
   ]
  },
  {
   "cell_type": "code",
   "execution_count": null,
   "id": "graphic-sessions",
   "metadata": {},
   "outputs": [],
   "source": [
    "X=pd.DataFrame.from_records(diabetes_X)"
   ]
  },
  {
   "cell_type": "code",
   "execution_count": null,
   "id": "global-delhi",
   "metadata": {},
   "outputs": [],
   "source": [
    "def h(theta_0, thetas, x):\n",
    "    return theta_0 + np.dot(thetas, x)"
   ]
  },
  {
   "cell_type": "code",
   "execution_count": null,
   "id": "intense-wildlife",
   "metadata": {},
   "outputs": [],
   "source": [
    "#Cost function\n",
    "def J(theta_0, thetas, m):\n",
    "    tmp=0\n",
    "    for i in range(0,m):\n",
    "        tmp+=np.square((h(theta_0, thetas, X.iloc[i])-diabetes_y[i]))\n",
    "    \n",
    "    return (1/(2*m))*tmp \n",
    "    "
   ]
  },
  {
   "cell_type": "code",
   "execution_count": null,
   "id": "norman-jenny",
   "metadata": {},
   "outputs": [],
   "source": [
    "alpha= 0.3"
   ]
  },
  {
   "cell_type": "code",
   "execution_count": null,
   "id": "sudden-punishment",
   "metadata": {},
   "outputs": [],
   "source": [
    "def dvj_sum(theta_0, thetas, m, j):\n",
    "    tmp=0\n",
    "    for i in range(0,m):\n",
    "        tmp+=(h(theta_0, thetas, X.iloc[i])-diabetes_y[i])*X.iloc[i,j]\n",
    "    \n",
    "    return alpha*(1/(m))*tmp "
   ]
  },
  {
   "cell_type": "code",
   "execution_count": null,
   "id": "assured-vienna",
   "metadata": {},
   "outputs": [],
   "source": [
    "def GD (theta_0, thetas):\n",
    "    theta_0 = theta_0 - dvj_sum(theta_0, thetas, len(X), 0)\n",
    "    for j in range(len(thetas)):\n",
    "        thetas[j] = thetas[j] - dvj_sum(theta_0, thetas, len(X), j)\n",
    "    return theta_0, thetas"
   ]
  },
  {
   "cell_type": "code",
   "execution_count": null,
   "id": "preceding-malaysia",
   "metadata": {},
   "outputs": [],
   "source": []
  },
  {
   "cell_type": "code",
   "execution_count": null,
   "id": "downtown-addition",
   "metadata": {},
   "outputs": [],
   "source": [
    "# #Mean normalization \n",
    "# avg=np.mean(diabetes_y)\n",
    "# std=np.std (diabetes_y)\n",
    "# for i in range(len(diabetes_y)):\n",
    "#     diabetes_y[i] =  (diabetes_y[i] - avg)/std\n",
    "    "
   ]
  },
  {
   "cell_type": "code",
   "execution_count": null,
   "id": "paperback-luxembourg",
   "metadata": {},
   "outputs": [],
   "source": [
    "theta_0= np.array([1])\n",
    "thetas = np.random.uniform (-1,1,10)\n",
    "\n",
    "for x in range (100):\n",
    "    theta_0, thetas = GD(theta_0, thetas)\n",
    "    print (J(theta_0, thetas, len(X)))\n"
   ]
  },
  {
   "cell_type": "code",
   "execution_count": null,
   "id": "sufficient-trunk",
   "metadata": {},
   "outputs": [],
   "source": []
  },
  {
   "cell_type": "code",
   "execution_count": null,
   "id": "understanding-yemen",
   "metadata": {},
   "outputs": [],
   "source": [
    "predict = []\n",
    "for x in range (100):\n",
    "    predict.append(h(theta_0, thetas, X.iloc[x]))"
   ]
  },
  {
   "cell_type": "code",
   "execution_count": null,
   "id": "perfect-mercury",
   "metadata": {},
   "outputs": [],
   "source": [
    "real = diabetes_y [0:100]"
   ]
  },
  {
   "cell_type": "code",
   "execution_count": null,
   "id": "serial-exemption",
   "metadata": {},
   "outputs": [],
   "source": [
    "plt.scatter(np.arange(100), predict, label=[\"prediction\"])\n",
    "plt.scatter(np.arange(100), real, label = [\"real\"])\n",
    "plt.legend()"
   ]
  },
  {
   "cell_type": "code",
   "execution_count": null,
   "id": "prospective-zealand",
   "metadata": {},
   "outputs": [],
   "source": []
  },
  {
   "cell_type": "code",
   "execution_count": null,
   "id": "adjusted-hawaiian",
   "metadata": {},
   "outputs": [],
   "source": [
    "h(theta_0, thetas, X.iloc[100])"
   ]
  },
  {
   "cell_type": "code",
   "execution_count": null,
   "id": "engaging-opportunity",
   "metadata": {},
   "outputs": [],
   "source": [
    "diabetes_y[100]"
   ]
  },
  {
   "cell_type": "code",
   "execution_count": null,
   "id": "unauthorized-appendix",
   "metadata": {},
   "outputs": [],
   "source": []
  }
 ],
 "metadata": {
  "kernelspec": {
   "display_name": "Python 3",
   "language": "python",
   "name": "python3"
  },
  "language_info": {
   "codemirror_mode": {
    "name": "ipython",
    "version": 3
   },
   "file_extension": ".py",
   "mimetype": "text/x-python",
   "name": "python",
   "nbconvert_exporter": "python",
   "pygments_lexer": "ipython3",
   "version": "3.7.9"
  }
 },
 "nbformat": 4,
 "nbformat_minor": 5
}
