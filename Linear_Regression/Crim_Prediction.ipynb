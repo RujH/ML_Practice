{
 "cells": [
  {
   "cell_type": "code",
   "execution_count": 1,
   "id": "other-setting",
   "metadata": {},
   "outputs": [],
   "source": [
    "\n",
    "import numpy as np # linear algebra\n",
    "import pandas as pd # data processing, CSV file I/O (e.g. pd.read_csv)\n",
    "import seaborn as sns # graphical display\n",
    "import matplotlib.pyplot as plt\n",
    "%matplotlib inline\n",
    "\n",
    "\n",
    "from sklearn.model_selection import train_test_split\n",
    "from sklearn.preprocessing import StandardScaler\n",
    "from sklearn.linear_model import LinearRegression\n",
    "from sklearn.linear_model import Ridge\n",
    "from sklearn.metrics import mean_squared_error as MSE\n",
    "\n",
    "from sklearn.model_selection import KFold\n",
    "from sklearn.model_selection import GridSearchCV\n",
    "from sklearn.pipeline import Pipeline\n",
    "from sklearn.preprocessing import StandardScaler\n",
    "from sklearn import metrics"
   ]
  },
  {
   "cell_type": "code",
   "execution_count": 2,
   "id": "sitting-minister",
   "metadata": {},
   "outputs": [
    {
     "data": {
      "text/html": [
       "<div>\n",
       "<style scoped>\n",
       "    .dataframe tbody tr th:only-of-type {\n",
       "        vertical-align: middle;\n",
       "    }\n",
       "\n",
       "    .dataframe tbody tr th {\n",
       "        vertical-align: top;\n",
       "    }\n",
       "\n",
       "    .dataframe thead th {\n",
       "        text-align: right;\n",
       "    }\n",
       "</style>\n",
       "<table border=\"1\" class=\"dataframe\">\n",
       "  <thead>\n",
       "    <tr style=\"text-align: right;\">\n",
       "      <th></th>\n",
       "      <th>CRIM</th>\n",
       "      <th>ZN</th>\n",
       "      <th>INDUS</th>\n",
       "      <th>CHAS</th>\n",
       "      <th>NOX</th>\n",
       "      <th>RM</th>\n",
       "      <th>AGE</th>\n",
       "      <th>DIS</th>\n",
       "      <th>RAD</th>\n",
       "      <th>TAX</th>\n",
       "      <th>PTRATIO</th>\n",
       "      <th>B</th>\n",
       "      <th>LSTAT</th>\n",
       "      <th>MEDV</th>\n",
       "    </tr>\n",
       "  </thead>\n",
       "  <tbody>\n",
       "    <tr>\n",
       "      <th>0</th>\n",
       "      <td>0.00632</td>\n",
       "      <td>18.0</td>\n",
       "      <td>2.31</td>\n",
       "      <td>0</td>\n",
       "      <td>0.538</td>\n",
       "      <td>6.575</td>\n",
       "      <td>65.2</td>\n",
       "      <td>4.0900</td>\n",
       "      <td>1</td>\n",
       "      <td>296</td>\n",
       "      <td>15.3</td>\n",
       "      <td>396.90</td>\n",
       "      <td>4.98</td>\n",
       "      <td>24.0</td>\n",
       "    </tr>\n",
       "    <tr>\n",
       "      <th>1</th>\n",
       "      <td>0.02731</td>\n",
       "      <td>0.0</td>\n",
       "      <td>7.07</td>\n",
       "      <td>0</td>\n",
       "      <td>0.469</td>\n",
       "      <td>6.421</td>\n",
       "      <td>78.9</td>\n",
       "      <td>4.9671</td>\n",
       "      <td>2</td>\n",
       "      <td>242</td>\n",
       "      <td>17.8</td>\n",
       "      <td>396.90</td>\n",
       "      <td>9.14</td>\n",
       "      <td>21.6</td>\n",
       "    </tr>\n",
       "    <tr>\n",
       "      <th>2</th>\n",
       "      <td>0.02729</td>\n",
       "      <td>0.0</td>\n",
       "      <td>7.07</td>\n",
       "      <td>0</td>\n",
       "      <td>0.469</td>\n",
       "      <td>7.185</td>\n",
       "      <td>61.1</td>\n",
       "      <td>4.9671</td>\n",
       "      <td>2</td>\n",
       "      <td>242</td>\n",
       "      <td>17.8</td>\n",
       "      <td>392.83</td>\n",
       "      <td>4.03</td>\n",
       "      <td>34.7</td>\n",
       "    </tr>\n",
       "    <tr>\n",
       "      <th>3</th>\n",
       "      <td>0.03237</td>\n",
       "      <td>0.0</td>\n",
       "      <td>2.18</td>\n",
       "      <td>0</td>\n",
       "      <td>0.458</td>\n",
       "      <td>6.998</td>\n",
       "      <td>45.8</td>\n",
       "      <td>6.0622</td>\n",
       "      <td>3</td>\n",
       "      <td>222</td>\n",
       "      <td>18.7</td>\n",
       "      <td>394.63</td>\n",
       "      <td>2.94</td>\n",
       "      <td>33.4</td>\n",
       "    </tr>\n",
       "    <tr>\n",
       "      <th>4</th>\n",
       "      <td>0.06905</td>\n",
       "      <td>0.0</td>\n",
       "      <td>2.18</td>\n",
       "      <td>0</td>\n",
       "      <td>0.458</td>\n",
       "      <td>7.147</td>\n",
       "      <td>54.2</td>\n",
       "      <td>6.0622</td>\n",
       "      <td>3</td>\n",
       "      <td>222</td>\n",
       "      <td>18.7</td>\n",
       "      <td>396.90</td>\n",
       "      <td>5.33</td>\n",
       "      <td>36.2</td>\n",
       "    </tr>\n",
       "  </tbody>\n",
       "</table>\n",
       "</div>"
      ],
      "text/plain": [
       "      CRIM    ZN  INDUS  CHAS    NOX     RM   AGE     DIS  RAD  TAX  PTRATIO  \\\n",
       "0  0.00632  18.0   2.31     0  0.538  6.575  65.2  4.0900    1  296     15.3   \n",
       "1  0.02731   0.0   7.07     0  0.469  6.421  78.9  4.9671    2  242     17.8   \n",
       "2  0.02729   0.0   7.07     0  0.469  7.185  61.1  4.9671    2  242     17.8   \n",
       "3  0.03237   0.0   2.18     0  0.458  6.998  45.8  6.0622    3  222     18.7   \n",
       "4  0.06905   0.0   2.18     0  0.458  7.147  54.2  6.0622    3  222     18.7   \n",
       "\n",
       "        B  LSTAT  MEDV  \n",
       "0  396.90   4.98  24.0  \n",
       "1  396.90   9.14  21.6  \n",
       "2  392.83   4.03  34.7  \n",
       "3  394.63   2.94  33.4  \n",
       "4  396.90   5.33  36.2  "
      ]
     },
     "execution_count": 2,
     "metadata": {},
     "output_type": "execute_result"
    }
   ],
   "source": [
    "all_data = pd.read_csv('Data/Real_Estate_Data/data.csv')\n",
    "all_data.head()"
   ]
  },
  {
   "cell_type": "code",
   "execution_count": 3,
   "id": "altered-atmosphere",
   "metadata": {},
   "outputs": [
    {
     "name": "stdout",
     "output_type": "stream",
     "text": [
      "(403, 13)\n"
     ]
    }
   ],
   "source": [
    "# Sperate train and test set\n",
    "\n",
    "train_df, test_df, y_train, y_test = train_test_split(all_data.drop(columns='CRIM'), all_data['CRIM'], test_size=0.21, random_state=0)\n",
    "print(train_df.shape)\n",
    "\n"
   ]
  },
  {
   "cell_type": "code",
   "execution_count": null,
   "id": "sapphire-atmosphere",
   "metadata": {},
   "outputs": [],
   "source": []
  },
  {
   "cell_type": "code",
   "execution_count": 4,
   "id": "binding-range",
   "metadata": {},
   "outputs": [],
   "source": [
    "#Normal Distirbution\n",
    "\n",
    "lr = LinearRegression()\n",
    "\n",
    "linMod = []\n",
    "\n",
    "for col in train_df.columns.drop(['CHAS']):\n",
    "    \n",
    "    #Simple model\n",
    "    X = train_df[col].fillna(value=train_df[col].median()).values\n",
    "    lr.fit(X[:,np.newaxis],y_train)\n",
    "    score_s=lr.score(X[:,np.newaxis], y_train)\n",
    "    \n",
    "    #only logarithm\n",
    "    X_log = np.log1p(X)\n",
    "    lr.fit(X_log[:,np.newaxis], y_train)\n",
    "    score_l=lr.score(X_log[:,np.newaxis], y_train)\n",
    "    \n",
    "    linMod.append({\n",
    "        'simple': score_s,\n",
    "        'log': score_l,\n",
    "    })\n",
    "    \n",
    "linMod = pd.DataFrame(linMod)\n",
    "linMod['features'] = train_df.columns.drop(['CHAS'])\n",
    "linMod.sort_values(by='simple', ascending=False, inplace=True)\n"
   ]
  },
  {
   "cell_type": "code",
   "execution_count": 5,
   "id": "removable-conservation",
   "metadata": {},
   "outputs": [
    {
     "data": {
      "image/png": "[encoded data removed]",
      "text/plain": [
       "<Figure size 432x288 with 1 Axes>"
      ]
     },
     "metadata": {
      "needs_background": "light"
     },
     "output_type": "display_data"
    }
   ],
   "source": [
    "#R^2 Results\n",
    "\n",
    "plt.scatter(np.arange(linMod.shape[0]), linMod['simple'], color='C0', alpha =0.5, s=75, label='Simple model')\n",
    "plt.scatter(np.arange(linMod.shape[0]), linMod['log'], color='C1',alpha =0.5, s=75,label='log1p(feature)')\n",
    "plt.xticks(np.arange(linMod.shape[0]), linMod['features'], rotation=90)\n",
    "plt.ylabel('R^2 score')\n",
    "plt.legend()\n",
    "plt.title('Comparison between [x vs. y] and [log1p(x) vs. y]')\n",
    "plt.show()"
   ]
  },
  {
   "cell_type": "code",
   "execution_count": 6,
   "id": "grateful-latter",
   "metadata": {},
   "outputs": [],
   "source": [
    "\n",
    "\n",
    "col_lg = linMod.loc[linMod['log']>linMod['simple'], 'features']\n",
    "\n",
    "# Take the columns \"as they are\"\n",
    "df_simple = train_df.drop(columns=['CHAS']).copy() \n",
    "\n",
    "for c in train_df.columns.drop(['CHAS']):\n",
    "    df_simple[c].fillna(df_simple[c].median(), inplace=True)\n",
    "\n",
    "# Take the log1p(x) only for the columns where the log1p(x) has a higher R^2 score\n",
    "df_log = train_df.drop(columns=['CHAS']).copy() \n",
    "\n",
    "for c in train_df.columns.drop(['CHAS']):\n",
    "    df_log[c].fillna(df_log[c].median(), inplace=True)\n",
    "for c in col_lg:\n",
    "    df_log[c] = np.log1p(df_log[c])\n",
    "    \n",
    "# Take the log1p(x) for all columns\n",
    "df_alllog = train_df.drop(columns=['CHAS']).copy() \n",
    "\n",
    "for c in train_df.columns.drop(['CHAS']):\n",
    "    df_alllog[c].fillna(df_alllog[c].median(), inplace=True)\n",
    "    df_alllog[c] = np.log1p(df_alllog[c])\n",
    "    \n",
    "\n",
    "scaler = StandardScaler()\n",
    "X_s = scaler.fit_transform(df_simple.values)\n",
    "X_l = scaler.fit_transform(df_log.values)\n",
    "X_al = scaler.fit_transform(df_alllog.values)"
   ]
  },
  {
   "cell_type": "code",
   "execution_count": 7,
   "id": "inappropriate-serve",
   "metadata": {},
   "outputs": [
    {
     "name": "stdout",
     "output_type": "stream",
     "text": [
      "MSE for simple model: 28.54\n",
      "MSE for log model: 25.24\n",
      "MSE for ALL log model: 26.67\n"
     ]
    }
   ],
   "source": [
    "lr = LinearRegression()\n",
    "\n",
    "#simple model\n",
    "lr.fit(X_s, y_train)\n",
    "print('MSE for simple model: {:.2f}'.format(MSE(y_train, lr.predict(X_s))))\n",
    "\n",
    "#log model\n",
    "lr.fit(X_l, y_train)\n",
    "print('MSE for log model: {:.2f}'.format(MSE(y_train, lr.predict(X_l))))\n",
    "\n",
    "#ALL log model\n",
    "lr.fit(X_al, y_train)\n",
    "print('MSE for ALL log model: {:.2f}'.format(MSE(y_train, lr.predict(X_al))))"
   ]
  },
  {
   "cell_type": "code",
   "execution_count": 8,
   "id": "champion-mistake",
   "metadata": {},
   "outputs": [],
   "source": [
    "#Model"
   ]
  },
  {
   "cell_type": "code",
   "execution_count": 9,
   "id": "differential-phenomenon",
   "metadata": {},
   "outputs": [],
   "source": [
    "def preprocess(df1, df2): # df1 is the dataframe to preprocess, based on df2 informations\n",
    "    \n",
    "    df1 = df1.copy() #work on a copy\n",
    "    \n",
    "    #set column names\n",
    "    cont_col = df1.drop(columns=['CHAS']).columns\n",
    "    col_lg = ['MEDV', 'NOX', 'DIS', 'RM', 'ZN']\n",
    "    \n",
    "    #compute log transform\n",
    "    for c in cont_col:\n",
    "        df1[c].fillna(df2[c].median(), inplace=True)\n",
    "    for c in col_lg:\n",
    "        df1[c] = np.log1p(df1[c])\n",
    "        \n",
    "    #Feature engineering\n",
    "    df1['ZN_binary'] = [1 if x>0 else 0 for x in df1['ZN']]\n",
    "    df1['RAD_binary'] = [1 if x>20 else 0 for x in df1['RAD']]\n",
    "    df1['TAX_binary'] = [1 if x>600 else 0 for x in df1['TAX']]\n",
    "    \n",
    "    #Polynomial features\n",
    "    for c in cont_col:\n",
    "        for d in [0.5, 2, 3]:\n",
    "            name = '{}**{}'.format(c, d)\n",
    "            df1[name] = df1[c]**d\n",
    "        #One-Hot Encoding\n",
    "    df1 = pd.get_dummies(df1, dummy_na=False)\n",
    "    \n",
    "    return df1"
   ]
  },
  {
   "cell_type": "code",
   "execution_count": 10,
   "id": "agreed-fossil",
   "metadata": {},
   "outputs": [],
   "source": [
    "train_df_preprocessed = preprocess(train_df, train_df)\n",
    "test_df_preprocessed = preprocess(test_df, train_df)\n",
    "\n",
    "#ensure same columns\n",
    "test_df_preprocessed = test_df_preprocessed.reindex(columns=train_df_preprocessed.columns, fill_value=0) #Ensure same columns"
   ]
  },
  {
   "cell_type": "code",
   "execution_count": 11,
   "id": "fitting-papua",
   "metadata": {},
   "outputs": [],
   "source": [
    "scaler = StandardScaler()\n",
    "train_df_preproc_scaled = scaler.fit_transform(train_df_preprocessed)\n",
    "test_df_preproc_scaled = scaler.transform(test_df_preprocessed)"
   ]
  },
  {
   "cell_type": "code",
   "execution_count": 12,
   "id": "professional-impression",
   "metadata": {},
   "outputs": [
    {
     "name": "stdout",
     "output_type": "stream",
     "text": [
      "MSE Linear Regression: 85.582651\n"
     ]
    }
   ],
   "source": [
    "linreg = LinearRegression() #creates the object\n",
    "linreg.fit(train_df_preproc_scaled, y_train) #fit the model using the train data rescaled\n",
    "mae_model1 = MSE(y_test, linreg.predict(test_df_preproc_scaled))\n",
    "print('MSE Linear Regression: {:.6f}'.format(mae_model1))"
   ]
  },
  {
   "cell_type": "code",
   "execution_count": null,
   "id": "spiritual-dietary",
   "metadata": {},
   "outputs": [],
   "source": []
  },
  {
   "cell_type": "code",
   "execution_count": null,
   "id": "nasty-performance",
   "metadata": {},
   "outputs": [],
   "source": []
  }
 ],
 "metadata": {
  "kernelspec": {
   "display_name": "Python 3",
   "language": "python",
   "name": "python3"
  },
  "language_info": {
   "codemirror_mode": {
    "name": "ipython",
    "version": 3
   },
   "file_extension": ".py",
   "mimetype": "text/x-python",
   "name": "python",
   "nbconvert_exporter": "python",
   "pygments_lexer": "ipython3",
   "version": "3.7.9"
  }
 },
 "nbformat": 4,
 "nbformat_minor": 5
}
