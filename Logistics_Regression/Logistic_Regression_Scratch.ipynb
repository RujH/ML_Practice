{
 "cells": [
  {
   "cell_type": "code",
   "execution_count": 1,
   "id": "composite-thickness",
   "metadata": {},
   "outputs": [],
   "source": [
    "import numpy as np\n",
    "import pandas as pd\n",
    "import matplotlib.pyplot as plt\n",
    "\n",
    "from sklearn import preprocessing"
   ]
  },
  {
   "cell_type": "code",
   "execution_count": 2,
   "id": "chinese-episode",
   "metadata": {},
   "outputs": [],
   "source": [
    "df=pd.read_csv(\"Admission_Predict_Ver1.1.csv\")"
   ]
  },
  {
   "cell_type": "code",
   "execution_count": 3,
   "id": "stretch-religion",
   "metadata": {},
   "outputs": [],
   "source": [
    "# Motifying the Y (so it is more suited for Logistical Regression), \n",
    "# if the chance is above 0.85 y=1, else y=0\n",
    "\n",
    "df.loc[df['Chance of Admit '] >= 0.85, 'Chance of Admit '] = 1\n",
    "\n",
    "df.loc[df['Chance of Admit '] < 0.85, 'Chance of Admit '] = 0\n"
   ]
  },
  {
   "cell_type": "code",
   "execution_count": 4,
   "id": "victorian-corrections",
   "metadata": {},
   "outputs": [],
   "source": [
    "alpha = 0.3\n",
    "epochs=500\n",
    "bias = 1"
   ]
  },
  {
   "cell_type": "code",
   "execution_count": 5,
   "id": "stuffed-probability",
   "metadata": {},
   "outputs": [],
   "source": [
    "\n",
    "# def Normalize(v):\n",
    "#     m = np.mean(v)\n",
    "#     std = np.std(v)\n",
    "#     return (v-m)/std"
   ]
  },
  {
   "cell_type": "code",
   "execution_count": 6,
   "id": "medieval-softball",
   "metadata": {},
   "outputs": [],
   "source": [
    "X = df.drop('Chance of Admit ', 1).values \n",
    "Y = df['Chance of Admit '].values\n",
    "\n",
    "# Normilazing the data because the valeus are too big for X\n",
    "scaler = preprocessing.StandardScaler().fit(X)\n",
    "X = scaler.transform(X)\n",
    "\n",
    "x_test = X[-50:]\n",
    "y_test=Y[-50:]\n",
    "\n",
    "X = X[:len(X) - 50]\n",
    "Y = Y[:len(Y) - 50]\n"
   ]
  },
  {
   "cell_type": "code",
   "execution_count": 7,
   "id": "knowing-sullivan",
   "metadata": {},
   "outputs": [],
   "source": [
    "def Sigmoid(x):\n",
    "    return 1/ (1+ np.exp(-x))"
   ]
  },
  {
   "cell_type": "code",
   "execution_count": 8,
   "id": "rising-surname",
   "metadata": {},
   "outputs": [],
   "source": [
    "def Cost_Function(theta):\n",
    "    m= X.shape[0]\n",
    "    tmp=np.sum([( Y[i]* np.log( Sigmoid(np.dot(X[i],thetas[1:])+thetas[0])) )+\n",
    "                ( np.log( 1-Sigmoid(np.dot(X[i],thetas[1:])+thetas[0]))*(1-Y[i]))\n",
    "                for i in range(m)])\n",
    "    return -(1/m) * tmp\n",
    "    "
   ]
  },
  {
   "cell_type": "code",
   "execution_count": 9,
   "id": "sublime-turkey",
   "metadata": {},
   "outputs": [],
   "source": [
    "def DerivativeJ(thetas, m, j):\n",
    "    tmp=0\n",
    "    if j==0:\n",
    "        for i in range(0,m):\n",
    "            tmp+=(Sigmoid(np.dot(X[i],thetas[1:])+thetas[0])-Y[i])\n",
    "    else:    \n",
    "        for i in range(0,m):\n",
    "            tmp+=(Sigmoid(np.dot(X[i],thetas[1:])+thetas[0])-Y[i])*X[i,j-1]\n",
    "    \n",
    "    return alpha*(1/(m))*tmp"
   ]
  },
  {
   "cell_type": "code",
   "execution_count": 10,
   "id": "buried-smoke",
   "metadata": {},
   "outputs": [],
   "source": [
    "def Gradient_Decent (thetas):   \n",
    "    for j in range(len(thetas)):\n",
    "        \n",
    "        thetas[j] = thetas[j] - DerivativeJ( thetas, len(X), j)\n",
    "        \n",
    "    return thetas"
   ]
  },
  {
   "cell_type": "code",
   "execution_count": 11,
   "id": "confidential-there",
   "metadata": {},
   "outputs": [],
   "source": [
    "thetas= (np.random.uniform(-1,1,9))"
   ]
  },
  {
   "cell_type": "code",
   "execution_count": 18,
   "id": "infrared-projector",
   "metadata": {},
   "outputs": [],
   "source": [
    "cost=[]"
   ]
  },
  {
   "cell_type": "code",
   "execution_count": 19,
   "id": "intimate-harrison",
   "metadata": {
    "scrolled": true
   },
   "outputs": [],
   "source": [
    "for x in range (epochs):\n",
    "    thetas = Gradient_Decent(thetas)\n",
    "    cost.append(Cost_Function(thetas))\n",
    "    "
   ]
  },
  {
   "cell_type": "code",
   "execution_count": 13,
   "id": "american-basis",
   "metadata": {},
   "outputs": [],
   "source": [
    "predict = []\n",
    "for i in range (100):\n",
    "    predict.append( Sigmoid(np.dot(X[i],thetas[1:])+thetas[0]) )"
   ]
  },
  {
   "cell_type": "code",
   "execution_count": 14,
   "id": "minor-pharmacology",
   "metadata": {},
   "outputs": [],
   "source": [
    "real = Y[:100]"
   ]
  },
  {
   "cell_type": "code",
   "execution_count": 15,
   "id": "herbal-setting",
   "metadata": {},
   "outputs": [
    {
     "data": {
      "text/plain": [
       "<matplotlib.legend.Legend at 0x2267fa665c8>"
      ]
     },
     "execution_count": 15,
     "metadata": {},
     "output_type": "execute_result"
    },
    {
     "data": {
      "image/png": "[encoded data removed]",
      "text/plain": [
       "<Figure size 432x288 with 1 Axes>"
      ]
     },
     "metadata": {
      "needs_background": "light"
     },
     "output_type": "display_data"
    }
   ],
   "source": [
    "plt.scatter(np.arange(100), predict, label=[\"prediction\"])\n",
    "plt.scatter(np.arange(100), real, label = [\"real\"])\n",
    "plt.legend()"
   ]
  },
  {
   "cell_type": "code",
   "execution_count": 16,
   "id": "junior-disaster",
   "metadata": {},
   "outputs": [
    {
     "name": "stdout",
     "output_type": "stream",
     "text": [
      "0.96\n"
     ]
    }
   ],
   "source": [
    "#Accuracy of the model\n",
    "correct = 0\n",
    "for i in range(len(x_test)):\n",
    "    guess = np.round(Sigmoid(np.dot(x_test[i],thetas[1:]) +thetas[0]))\n",
    "    if y_test[i] == guess:\n",
    "        correct += 1\n",
    "print(correct/len(x_test))"
   ]
  },
  {
   "cell_type": "code",
   "execution_count": 20,
   "id": "substantial-damage",
   "metadata": {},
   "outputs": [
    {
     "data": {
      "text/plain": [
       "[<matplotlib.lines.Line2D at 0x22611134b08>]"
      ]
     },
     "execution_count": 20,
     "metadata": {},
     "output_type": "execute_result"
    },
    {
     "data": {
      "image/png": "[encoded data removed]",
      "text/plain": [
       "<Figure size 432x288 with 1 Axes>"
      ]
     },
     "metadata": {
      "needs_background": "light"
     },
     "output_type": "display_data"
    }
   ],
   "source": [
    "plt.plot(cost)"
   ]
  },
  {
   "cell_type": "code",
   "execution_count": null,
   "id": "entitled-touch",
   "metadata": {},
   "outputs": [],
   "source": []
  }
 ],
 "metadata": {
  "kernelspec": {
   "display_name": "Python 3",
   "language": "python",
   "name": "python3"
  },
  "language_info": {
   "codemirror_mode": {
    "name": "ipython",
    "version": 3
   },
   "file_extension": ".py",
   "mimetype": "text/x-python",
   "name": "python",
   "nbconvert_exporter": "python",
   "pygments_lexer": "ipython3",
   "version": "3.7.9"
  }
 },
 "nbformat": 4,
 "nbformat_minor": 5
}
