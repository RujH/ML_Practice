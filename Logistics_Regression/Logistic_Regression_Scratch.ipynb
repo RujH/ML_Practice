{
 "cells": [
  {
   "cell_type": "code",
   "execution_count": 1,
   "id": "earlier-reading",
   "metadata": {},
   "outputs": [],
   "source": [
    "import numpy as np\n",
    "import pandas as pd\n",
    "import matplotlib.pyplot as plt\n",
    "\n",
    "from sklearn import preprocessing"
   ]
  },
  {
   "cell_type": "code",
   "execution_count": 2,
   "id": "worldwide-nutrition",
   "metadata": {},
   "outputs": [],
   "source": [
    "df=pd.read_csv(\"Admission_Predict_Ver1.1.csv\")"
   ]
  },
  {
   "cell_type": "code",
   "execution_count": 3,
   "id": "minute-spell",
   "metadata": {},
   "outputs": [],
   "source": [
    "# Motifying the Y (so it is more suited for Logistical Regression), \n",
    "# if the chance is above 0.85 y=1, else y=0\n",
    "\n",
    "df.loc[df['Chance of Admit '] >= 0.85, 'Chance of Admit '] = 1\n",
    "\n",
    "df.loc[df['Chance of Admit '] < 0.85, 'Chance of Admit '] = 0\n",
    "\n",
    "\n"
   ]
  },
  {
   "cell_type": "code",
   "execution_count": 4,
   "id": "empty-designation",
   "metadata": {},
   "outputs": [],
   "source": [
    "alpha = 0.3\n",
    "epochs=1000"
   ]
  },
  {
   "cell_type": "code",
   "execution_count": 5,
   "id": "coordinated-olympus",
   "metadata": {},
   "outputs": [],
   "source": [
    "\n",
    "# def Normalize(v):\n",
    "#     m = np.mean(v)\n",
    "#     std = np.std(v)\n",
    "#     return (v-m)/std"
   ]
  },
  {
   "cell_type": "code",
   "execution_count": 6,
   "id": "light-gathering",
   "metadata": {},
   "outputs": [],
   "source": [
    "X = df.drop('Chance of Admit ', 1).values \n",
    "Y = df['Chance of Admit '].values\n",
    "\n",
    "# Normilazing the data because the valeus are too big for X\n",
    "scaler = preprocessing.StandardScaler().fit(X)\n",
    "X = scaler.transform(X)\n",
    "\n",
    "x_test = X[-50:]\n",
    "y_test=Y[-50:]\n",
    "\n",
    "X = X[:len(X) - 50]\n",
    "Y = Y[:len(Y) - 50]\n"
   ]
  },
  {
   "cell_type": "code",
   "execution_count": 7,
   "id": "running-contract",
   "metadata": {},
   "outputs": [],
   "source": [
    "def Sigmoid(x):\n",
    "    return 1/ (1+ np.exp(-x))"
   ]
  },
  {
   "cell_type": "code",
   "execution_count": 8,
   "id": "composed-algebra",
   "metadata": {},
   "outputs": [],
   "source": [
    "def Cost_Function(theta):\n",
    "    m= X.shape[0]\n",
    "    tmp=np.sum([( Y[i]* np.log(Sigmoid(np.dot(X[i],thetas))) ) + ( np.log( 1-Sigmoid(np.dot(X[i],thetas)))*(1-Y[i])) for i in range(m)])\n",
    "    return -(1/m) * tmp\n",
    "    "
   ]
  },
  {
   "cell_type": "code",
   "execution_count": 9,
   "id": "adult-stanley",
   "metadata": {},
   "outputs": [],
   "source": [
    "def DerivativeJ(thetas, m, j):\n",
    "    tmp=0\n",
    "    for i in range(0,m):\n",
    "        tmp+=(Sigmoid(np.dot(X[i],thetas))-Y[i])*X[i,j]\n",
    "    \n",
    "    return alpha*(1/(m))*tmp"
   ]
  },
  {
   "cell_type": "code",
   "execution_count": 10,
   "id": "acoustic-fisher",
   "metadata": {},
   "outputs": [],
   "source": [
    "def Gradient_Decent (thetas):\n",
    "    \n",
    "    \n",
    "    for j in range(len(thetas)):\n",
    "        \n",
    "        thetas[j] = thetas[j] - DerivativeJ( thetas, len(X), j)\n",
    "        \n",
    "    return thetas"
   ]
  },
  {
   "cell_type": "code",
   "execution_count": null,
   "id": "speaking-ethernet",
   "metadata": {},
   "outputs": [],
   "source": []
  },
  {
   "cell_type": "code",
   "execution_count": 11,
   "id": "noticed-generation",
   "metadata": {},
   "outputs": [],
   "source": [
    "thetas= (np.random.uniform(-1,1,8))\n",
    "#thetas = [0.2, 0.5, 0.1, 0.8, 0.7, 0.3, 0.1, 0.6]"
   ]
  },
  {
   "cell_type": "code",
   "execution_count": null,
   "id": "excess-contribution",
   "metadata": {
    "scrolled": true
   },
   "outputs": [],
   "source": [
    "for x in range (epochs):\n",
    "    thetas = Gradient_Decent(thetas)\n",
    "    print (Cost_Function(thetas))"
   ]
  },
  {
   "cell_type": "code",
   "execution_count": null,
   "id": "annoying-basketball",
   "metadata": {},
   "outputs": [],
   "source": [
    "predict = []\n",
    "for i in range (100):\n",
    "    predict.append( Sigmoid(np.dot(X[i],thetas) ) )"
   ]
  },
  {
   "cell_type": "code",
   "execution_count": null,
   "id": "valuable-fifteen",
   "metadata": {},
   "outputs": [],
   "source": [
    "real = Y[:100]"
   ]
  },
  {
   "cell_type": "code",
   "execution_count": null,
   "id": "varied-locking",
   "metadata": {},
   "outputs": [],
   "source": [
    "plt.scatter(np.arange(100), predict, label=[\"prediction\"])\n",
    "plt.scatter(np.arange(100), real, label = [\"real\"])\n",
    "plt.legend()"
   ]
  },
  {
   "cell_type": "code",
   "execution_count": null,
   "id": "dress-complaint",
   "metadata": {},
   "outputs": [],
   "source": [
    "correct = 0\n",
    "for i in range(100):\n",
    "    guess = np.round(Sigmoid(np.dot(X[i],thetas)))\n",
    "    if Y[i] == guess:\n",
    "        correct += 1\n",
    "print(correct/100)"
   ]
  },
  {
   "cell_type": "code",
   "execution_count": null,
   "id": "prepared-beads",
   "metadata": {},
   "outputs": [],
   "source": [
    "x_test.shape[0]"
   ]
  },
  {
   "cell_type": "code",
   "execution_count": null,
   "id": "sapphire-triangle",
   "metadata": {},
   "outputs": [],
   "source": []
  }
 ],
 "metadata": {
  "kernelspec": {
   "display_name": "Python 3",
   "language": "python",
   "name": "python3"
  },
  "language_info": {
   "codemirror_mode": {
    "name": "ipython",
    "version": 3
   },
   "file_extension": ".py",
   "mimetype": "text/x-python",
   "name": "python",
   "nbconvert_exporter": "python",
   "pygments_lexer": "ipython3",
   "version": "3.7.9"
  }
 },
 "nbformat": 4,
 "nbformat_minor": 5
}
